{
  "nbformat": 4,
  "nbformat_minor": 0,
  "metadata": {
    "colab": {
      "name": "Upsampling_AutoEncoder.ipynb",
      "version": "0.3.2",
      "provenance": [],
      "collapsed_sections": []
    },
    "kernelspec": {
      "name": "python3",
      "display_name": "Python 3"
    },
    "accelerator": "GPU"
  },
  "cells": [
    {
      "metadata": {
        "id": "aqg3QwrMM8KX",
        "colab_type": "text"
      },
      "cell_type": "markdown",
      "source": [
        "**Importing libraries**"
      ]
    },
    {
      "metadata": {
        "id": "Zugh08ojDGey",
        "colab_type": "code",
        "colab": {}
      },
      "cell_type": "code",
      "source": [
        "%matplotlib inline\n",
        "import torch\n",
        "from torchvision import datasets, transforms\n",
        "from torch import nn, optim\n",
        "import matplotlib.pyplot as plt\n",
        "import numpy as np"
      ],
      "execution_count": 0,
      "outputs": []
    },
    {
      "metadata": {
        "id": "Y53Ji_JtNA05",
        "colab_type": "text"
      },
      "cell_type": "markdown",
      "source": [
        "**Loading MNIST data**"
      ]
    },
    {
      "metadata": {
        "id": "MceVjptXFqt9",
        "colab_type": "code",
        "colab": {}
      },
      "cell_type": "code",
      "source": [
        "traindata=datasets.MNIST('/data',train=True,download=True,transform=transforms.ToTensor())\n",
        "trainloader=torch.utils.data.DataLoader(traindata,batch_size=64,shuffle=True)\n",
        "\n",
        "testdata=datasets.MNIST('/data',train=False,download=True,transform=transforms.ToTensor())\n",
        "testloader=torch.utils.data.DataLoader(testdata,batch_size=64,shuffle=True)"
      ],
      "execution_count": 0,
      "outputs": []
    },
    {
      "metadata": {
        "id": "tfbXnzupNDxt",
        "colab_type": "text"
      },
      "cell_type": "markdown",
      "source": [
        "**Visualizing images**"
      ]
    },
    {
      "metadata": {
        "id": "NJHIYxLHGOgB",
        "colab_type": "code",
        "colab": {}
      },
      "cell_type": "code",
      "source": [
        "images,_=next(iter(trainloader))"
      ],
      "execution_count": 0,
      "outputs": []
    },
    {
      "metadata": {
        "id": "kzqeQVRFGUrx",
        "colab_type": "code",
        "colab": {
          "base_uri": "https://localhost:8080/",
          "height": 34
        },
        "outputId": "a705f4cf-bbd4-4d37-dac9-4cd303bc4641"
      },
      "cell_type": "code",
      "source": [
        "images[0].shape"
      ],
      "execution_count": 4,
      "outputs": [
        {
          "output_type": "execute_result",
          "data": {
            "text/plain": [
              "torch.Size([1, 28, 28])"
            ]
          },
          "metadata": {
            "tags": []
          },
          "execution_count": 4
        }
      ]
    },
    {
      "metadata": {
        "id": "NQoZ3Zd8GV5e",
        "colab_type": "code",
        "colab": {
          "base_uri": "https://localhost:8080/",
          "height": 282
        },
        "outputId": "e819f1ed-674a-45cc-d069-cefb48b043f5"
      },
      "cell_type": "code",
      "source": [
        "plt.imshow(images[60].reshape(28,28),cmap='gray')"
      ],
      "execution_count": 5,
      "outputs": [
        {
          "output_type": "execute_result",
          "data": {
            "text/plain": [
              "<matplotlib.image.AxesImage at 0x7f156783c898>"
            ]
          },
          "metadata": {
            "tags": []
          },
          "execution_count": 5
        },
        {
          "output_type": "display_data",
          "data": {
            "image/png": "[encoded data removed]",
            "text/plain": [
              "<Figure size 432x288 with 1 Axes>"
            ]
          },
          "metadata": {
            "tags": []
          }
        }
      ]
    },
    {
      "metadata": {
        "id": "LLQI054JNJYI",
        "colab_type": "text"
      },
      "cell_type": "markdown",
      "source": [
        "**Autoencoder model**"
      ]
    },
    {
      "metadata": {
        "id": "EXVvkt1oGYVX",
        "colab_type": "code",
        "colab": {}
      },
      "cell_type": "code",
      "source": [
        "class AutoEncoder(nn.Module):\n",
        "  def __init__(self):\n",
        "    super().__init__()\n",
        "    \n",
        "    #Encoder\n",
        "    self.conv1=nn.Conv2d(1,16,3,padding=1)\n",
        "    self.pool=nn.MaxPool2d(2,2)\n",
        "    self.conv2=nn.Conv2d(16,4,3,padding=1)\n",
        "    \n",
        "    self.upsample=nn.Upsample(scale_factor=2,mode='nearest')\n",
        "    self.conv3=nn.Conv2d(4,16,3,padding=1)\n",
        "    self.conv4=nn.Conv2d(16,1,3,padding=1)\n",
        "    \n",
        "    self.sigmoid=nn.Sigmoid()\n",
        "    \n",
        "  def forward(self,x):\n",
        "    x=self.pool(self.conv1(x))\n",
        "    x=self.pool(self.conv2(x))\n",
        "    \n",
        "    x=self.upsample(x)\n",
        "    \n",
        "    x=self.upsample(self.conv3(x))\n",
        "    x=self.conv4(x)\n",
        "    x=self.sigmoid(x)\n",
        "    \n",
        "    return x"
      ],
      "execution_count": 0,
      "outputs": []
    },
    {
      "metadata": {
        "id": "wjLCmaCXNL_x",
        "colab_type": "text"
      },
      "cell_type": "markdown",
      "source": [
        "**Optimization Objects**"
      ]
    },
    {
      "metadata": {
        "id": "cDIRk4-pI0HE",
        "colab_type": "code",
        "colab": {}
      },
      "cell_type": "code",
      "source": [
        "model=AutoEncoder()\n",
        "model.cuda()\n",
        "criteria=nn.MSELoss()\n",
        "optimizer=optim.Adam(model.parameters(),lr=0.003)"
      ],
      "execution_count": 0,
      "outputs": []
    },
    {
      "metadata": {
        "id": "q9nq8lp8NPKp",
        "colab_type": "text"
      },
      "cell_type": "markdown",
      "source": [
        "**Training**"
      ]
    },
    {
      "metadata": {
        "id": "eFuQOds9JBIB",
        "colab_type": "code",
        "colab": {
          "base_uri": "https://localhost:8080/",
          "height": 581
        },
        "outputId": "0ab46d7c-512d-4380-f8cc-5282b16def16"
      },
      "cell_type": "code",
      "source": [
        "epoch=30\n",
        "for e in range(epoch):\n",
        "  running_loss=0\n",
        "  for images,_ in trainloader:\n",
        "    images=images.cuda()\n",
        "    \n",
        "    optimizer.zero_grad()\n",
        "    logits=model.forward(images)\n",
        "    loss=criteria(logits,images)\n",
        "    loss.backward()\n",
        "    \n",
        "    optimizer.step()\n",
        "    \n",
        "    running_loss+=loss.item()\n",
        "  else:\n",
        "    print('Training Loss : ',running_loss/len(trainloader))"
      ],
      "execution_count": 8,
      "outputs": [
        {
          "output_type": "stream",
          "text": [
            "/usr/local/lib/python3.6/dist-packages/torch/nn/modules/upsampling.py:129: UserWarning: nn.Upsample is deprecated. Use nn.functional.interpolate instead.\n",
            "  warnings.warn(\"nn.{} is deprecated. Use nn.functional.interpolate instead.\".format(self.name))\n"
          ],
          "name": "stderr"
        },
        {
          "output_type": "stream",
          "text": [
            "Training Loss :  0.01652283645542795\n",
            "Training Loss :  0.00924559955252831\n",
            "Training Loss :  0.008494658872727424\n",
            "Training Loss :  0.00811422920462165\n",
            "Training Loss :  0.007918281005079877\n",
            "Training Loss :  0.007791780294782953\n",
            "Training Loss :  0.007707927538367953\n",
            "Training Loss :  0.0076347398919178475\n",
            "Training Loss :  0.007581165612442916\n",
            "Training Loss :  0.00750162413588036\n",
            "Training Loss :  0.0074309979362893845\n",
            "Training Loss :  0.007334017656000852\n",
            "Training Loss :  0.007212257296192462\n",
            "Training Loss :  0.0071403462427860895\n",
            "Training Loss :  0.007077677888291349\n",
            "Training Loss :  0.007042823766947968\n",
            "Training Loss :  0.00702431104155873\n",
            "Training Loss :  0.006990547938300158\n",
            "Training Loss :  0.006977506811970841\n",
            "Training Loss :  0.006970960288934076\n",
            "Training Loss :  0.006959139457298145\n",
            "Training Loss :  0.006952118196550495\n",
            "Training Loss :  0.006943697059677957\n",
            "Training Loss :  0.006947005498729376\n",
            "Training Loss :  0.0069282012470344555\n",
            "Training Loss :  0.0069300266844567965\n",
            "Training Loss :  0.006923654373349951\n",
            "Training Loss :  0.006919097228309334\n",
            "Training Loss :  0.006919247282942983\n",
            "Training Loss :  0.0069128279728112\n"
          ],
          "name": "stdout"
        }
      ]
    },
    {
      "metadata": {
        "id": "Yv5RZSYfNRF2",
        "colab_type": "text"
      },
      "cell_type": "markdown",
      "source": [
        "**Before Compression**"
      ]
    },
    {
      "metadata": {
        "id": "NR3yinAYLriO",
        "colab_type": "code",
        "colab": {
          "base_uri": "https://localhost:8080/",
          "height": 282
        },
        "outputId": "c60e6f15-9cca-446c-f55f-cae5b722ee40"
      },
      "cell_type": "code",
      "source": [
        "images,_=next(iter(testloader))\n",
        "plt.imshow(images[0].reshape(28,28),cmap='gray')"
      ],
      "execution_count": 9,
      "outputs": [
        {
          "output_type": "execute_result",
          "data": {
            "text/plain": [
              "<matplotlib.image.AxesImage at 0x7f1564727c50>"
            ]
          },
          "metadata": {
            "tags": []
          },
          "execution_count": 9
        },
        {
          "output_type": "display_data",
          "data": {
            "image/png": "[encoded data removed]",
            "text/plain": [
              "<Figure size 432x288 with 1 Axes>"
            ]
          },
          "metadata": {
            "tags": []
          }
        }
      ]
    },
    {
      "metadata": {
        "id": "h2CpichSNUx4",
        "colab_type": "text"
      },
      "cell_type": "markdown",
      "source": [
        "**After Compression**"
      ]
    },
    {
      "metadata": {
        "id": "tCHcG9rNJ5Qj",
        "colab_type": "code",
        "colab": {
          "base_uri": "https://localhost:8080/",
          "height": 71
        },
        "outputId": "7f27caf3-cea6-46a8-feaa-94916f55cadd"
      },
      "cell_type": "code",
      "source": [
        "with torch.no_grad():\n",
        "#     images=images.view(-1,784)\n",
        "    images=images.cuda()\n",
        "    comp_img=model.forward(images)\n",
        " "
      ],
      "execution_count": 10,
      "outputs": [
        {
          "output_type": "stream",
          "text": [
            "/usr/local/lib/python3.6/dist-packages/torch/nn/modules/upsampling.py:129: UserWarning: nn.Upsample is deprecated. Use nn.functional.interpolate instead.\n",
            "  warnings.warn(\"nn.{} is deprecated. Use nn.functional.interpolate instead.\".format(self.name))\n"
          ],
          "name": "stderr"
        }
      ]
    },
    {
      "metadata": {
        "id": "l-9d_eTJLxhL",
        "colab_type": "code",
        "colab": {
          "base_uri": "https://localhost:8080/",
          "height": 282
        },
        "outputId": "280da125-bf4b-4c72-c907-a29e994eb5d4"
      },
      "cell_type": "code",
      "source": [
        "comp_img=comp_img.cpu()\n",
        "plt.imshow(comp_img[0].reshape(28,28),cmap='gray')"
      ],
      "execution_count": 11,
      "outputs": [
        {
          "output_type": "execute_result",
          "data": {
            "text/plain": [
              "<matplotlib.image.AxesImage at 0x7f1567951550>"
            ]
          },
          "metadata": {
            "tags": []
          },
          "execution_count": 11
        },
        {
          "output_type": "display_data",
          "data": {
            "image/png": "[encoded data removed]",
            "text/plain": [
              "<Figure size 432x288 with 1 Axes>"
            ]
          },
          "metadata": {
            "tags": []
          }
        }
      ]
    },
    {
      "metadata": {
        "id": "Ae5ghjI-Mk_R",
        "colab_type": "code",
        "colab": {}
      },
      "cell_type": "code",
      "source": [
        ""
      ],
      "execution_count": 0,
      "outputs": []
    }
  ]
}